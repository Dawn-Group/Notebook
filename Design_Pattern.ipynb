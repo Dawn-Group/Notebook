{
 "cells": [
  {
   "cell_type": "markdown",
   "metadata": {},
   "source": [
    "## Learning Design Pattern by JavaScript\n",
    "The first day to learn the Design Pattern.\n"
   ]
  },
  {
   "cell_type": "markdown",
   "metadata": {},
   "source": [
    "Categories of design pattern\n",
    "1. Creational Design Patterns;\n",
    " - official definition: Creational design patterns focus on handling object-creation mechanisms where objects are created in a manner suitable for a given situation. The basic approach to object creation might otherwise lead to added complexity in a project, while these patterns aim to solve this problem by controlling the creation process. ---  from book <Learning JavaScript Degsin Patterns>\n",
    " - personla understanding: This method more likely focuse on how your object created, how the class design. Ex. if you want to create a car Object, you probablly think like what features car have, what prproperties car needs. You may have features like driving, may be your car can fly you can have feature like flying. After that, you need prproperties such as Tires since you car need to be drivied. If it can fly, you may need wings. Therefore, you will have a class like\n",
    "    \n",
    "```\n",
    "    class Car {\n",
    "            var tires;\n",
    "            var wings:\n",
    "            method:{\n",
    "                driving()\n",
    "                flying()\n",
    "        }\n",
    "    }\n",
    "```\n",
    "    \n",
    "The pattern of this category:\n",
    "    - Constructor\n",
    "    - Factory\n",
    "    - Abstract\n",
    "    - Prototype\n",
    "    - Singleton\n",
    "    - Builder\n",
    "2. Structural Design Patterns;\n",
    "    ---- will talk later once I learn it.\n",
    "\n",
    "3. Behavioral Design Patterns\n",
    "    ---- will talk later once I learn it."
   ]
  },
  {
   "cell_type": "markdown",
   "metadata": {},
   "source": [
    "# Constructor pattern\n",
    "\n",
    "1. understand the way will defined object in js"
   ]
  },
  {
   "cell_type": "code",
   "execution_count": 32,
   "metadata": {},
   "outputs": [
    {
     "name": "stdout",
     "output_type": "stream",
     "text": [
      "[Object: null prototype] { prop2: 'p-', prop3: 'p3' }\n"
     ]
    }
   ],
   "source": [
    "function objectNew(){\n",
    "    \n",
    "}\n",
    "\n",
    "var obj = {}\n",
    "var obj1 = new objectNew()\n",
    "\n",
    "\n",
    "obj.prop1 = 'p1'\n",
    "obj1.prop1 = 'p1'\n",
    "\n",
    "\n",
    "var obj2 = Object.create( null );\n",
    "\n",
    "Object.defineProperty(obj2,\"prop2\",{\n",
    "    value:\"p2\",\n",
    "    writable: true,\n",
    "    enumerable: true,\n",
    "    configurable: true\n",
    "})\n",
    "\n",
    "Object.defineProperties(obj2,{\n",
    "    \"prop2\":{\n",
    "        value:\"p-\",\n",
    "        writable:false\n",
    "    },\n",
    "    \"prop3\":{\n",
    "        value:\"p3\",\n",
    "        writable:true,\n",
    "        enumerable: true, // try to set it false to see result, but nothing about degsin pattern\n",
    "    }\n",
    "    \n",
    "})\n",
    "\n",
    "//\n",
    "\n",
    "console.log(obj2)\n"
   ]
  },
  {
   "cell_type": "markdown",
   "metadata": {},
   "source": [
    "1. Simple Constructor"
   ]
  },
  {
   "cell_type": "code",
   "execution_count": 40,
   "metadata": {},
   "outputs": [
    {
     "name": "stdout",
     "output_type": "stream",
     "text": [
      "the black Benth can go 10000\n"
     ]
    }
   ],
   "source": [
    "function Car(model,meil,color){\n",
    "    this.model = model\n",
    "    this.meil = meil\n",
    "    this.color = color\n",
    "    \n",
    "    this.howLongCarCanGo = function(){\n",
    "        return \"the \" + this.color + \" \" +  this.model + \" can go \" + this.meil \n",
    "    }\n",
    "}\n",
    "\n",
    "var Mycar = new Car(\"Benth\",\"10000\",\"black\")\n",
    "console.log(Mycar.howLongCarCanGo())"
   ]
  },
  {
   "cell_type": "markdown",
   "metadata": {},
   "source": [
    "By meantime, what if we want share the method between the instence we can use protoype"
   ]
  },
  {
   "cell_type": "code",
   "execution_count": null,
   "metadata": {},
   "outputs": [],
   "source": []
  }
 ],
 "metadata": {
  "kernelspec": {
   "display_name": "Javascript (Node.js)",
   "language": "javascript",
   "name": "javascript"
  },
  "language_info": {
   "file_extension": ".js",
   "mimetype": "application/javascript",
   "name": "javascript",
   "version": "11.12.0"
  }
 },
 "nbformat": 4,
 "nbformat_minor": 2
}
